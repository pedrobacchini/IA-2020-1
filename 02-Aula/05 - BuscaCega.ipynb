{
 "nbformat": 4,
 "nbformat_minor": 0,
 "metadata": {
  "colab": {
   "name": "05 - BuscaCega.ipynb",
   "version": "0.3.2",
   "provenance": []
  },
  "kernelspec": {
   "name": "python3",
   "language": "python",
   "display_name": "Python 3"
  },
  "pycharm": {
   "stem_cell": {
    "cell_type": "raw",
    "source": [],
    "metadata": {
     "collapsed": false
    }
   }
  }
 },
 "cells": [
  {
   "metadata": {
    "id": "U2_HGC5dpwOx",
    "colab_type": "text"
   },
   "cell_type": "markdown",
   "source": [
    "**Instituto de Informática - UFG**\n",
    "\n",
    "Disciplina: Inteligência Artificial\n",
    "\n",
    "Prof. Cedric Luiz de Carvalho\n",
    "\n",
    "Aluna(o): \n",
    "\n",
    "\n",
    "\n",
    "---\n",
    "\n"
   ]
  },
  {
   "metadata": {
    "id": "lh-s_3mNC_8W",
    "colab_type": "text"
   },
   "cell_type": "markdown",
   "source": [
    "**Como solucionar um problema?**\n",
    "\n",
    "- Identificação\n",
    "- Compreensão\n",
    "- Elementos relevantes (essenciais e não essenciais)\n",
    "- Construção de um modelo (descrição matemática abstrata)\n",
    "- Obter uma solução aproximada por meio do modelo\n",
    "- Interpretar esta solução aproximada\n",
    "\n",
    "\n"
   ]
  },
  {
   "metadata": {
    "id": "gyKO220FFYJu",
    "colab_type": "text"
   },
   "cell_type": "markdown",
   "source": [
    "PROBLEMA (real) $\\Rightarrow$ SOLUÇÃO EXATA"
   ]
  },
  {
   "metadata": {
    "id": "wrA7urRrHLvz",
    "colab_type": "text"
   },
   "cell_type": "markdown",
   "source": [
    "interpretação $\\Updownarrow$  modelagem"
   ]
  },
  {
   "metadata": {
    "id": "Y5q4cZpXJdCk",
    "colab_type": "text"
   },
   "cell_type": "markdown",
   "source": [
    "MODELO $\\Rightarrow$ SOLUÇÃO APROXIMADA"
   ]
  },
  {
   "metadata": {
    "id": "OwMJAcHLMaU3",
    "colab_type": "text"
   },
   "cell_type": "markdown",
   "source": [
    "**Exemplo de problema**\n",
    "\n",
    "Deseja-se sair de uma capital brasileira e viajar, por carro até uma outra capital, com o menor custo possível."
   ]
  },
  {
   "metadata": {
    "id": "NrMK7G8OM9wM",
    "colab_type": "text"
   },
   "cell_type": "markdown",
   "source": [
    "**Quais são os aspectos envolvidos neste problema?**\n",
    "\n",
    "- Ponto de partida e chegada\n",
    "- Como fazer a viagem, por que caminho seguir\n",
    "- Condições da estrada\n",
    "- Paisagem ao longo do caminho\n",
    "- Bons restaurantes/lanchonetes ao longo do caminho\n",
    "- Postos de combustível ao longo do caminho\n",
    "- etc.\n"
   ]
  },
  {
   "metadata": {
    "id": "HhvDFe7OeHEj",
    "colab_type": "text"
   },
   "cell_type": "markdown",
   "source": [
    "**O que abstrair?**\n",
    "\n",
    "- O que é relevante?"
   ]
  },
  {
   "metadata": {
    "id": "tHFipY4zmcax",
    "colab_type": "text"
   },
   "cell_type": "markdown",
   "source": [
    "**Modelo:**\n",
    "\n",
    "Podemos considerar:\n",
    "\n",
    "\n",
    "*   Estado inicial\n",
    "*   Ações possíveis\n",
    "*   Modelo de transição (determinação dos sucessores)\n",
    "*   Teste da meta\n",
    "*   Função de custo do caminho\n",
    "\n",
    "\n"
   ]
  },
  {
   "metadata": {
    "id": "orpBAjn0b2eI",
    "colab_type": "text"
   },
   "cell_type": "markdown",
   "source": [
    "**Estados**:  descrevem uma situação do mundo.\n",
    "\n",
    "**Espaço de estados**: conjunto de estados que podem ser atingidos a partir do estado inicial.\n",
    "\n"
   ]
  },
  {
   "metadata": {
    "id": "4DhPLTIideS8",
    "colab_type": "text"
   },
   "cell_type": "markdown",
   "source": [
    "# Resolução de problemas por meio de busca\n",
    "\n",
    "###Um algoritmo de busca:\n",
    "\n",
    "- Recebe um problema:\n",
    "- Estado inicial;\n",
    "- Conjunto de operadores;\n",
    "- Teste da meta; e\n",
    "- Função de custo do caminho\n",
    "\n",
    "###Produzem:\n",
    "\n",
    "- **Uma solução :** um caminho do estado inicial até um estado que\n",
    "satisfaça o teste da meta."
   ]
  },
  {
   "metadata": {
    "id": "2q2p9G2pmUqD",
    "colab_type": "text"
   },
   "cell_type": "markdown",
   "source": [
    "## Buscas não informadas (cegas)\n",
    "\n",
    "- **Busca em largura**: A raiz é expandida; todos os nós gerados pela expansão da raiz são expandidos; os sucessores dos nós gerados pela expansão da raiz são expandidos; o processo se repete até que a meta seja atingida.\n",
    "- **Busca de custo uniforme**: a busca em Largura pode ser modificada, expandindo-se sempre o nó de menor custo da fronteira ao invés nó de menor profundidade.\n",
    "- **Busca em profundidade**: expande sempre um dos nós de maior profundidade na árvore. Quando a busca encontra um nó que não pode ser expandido, retorna e expande os nós que estão pendentes.\n",
    "- **Busca em profundidade limitada**: a busca em profundidade é modificada, impondo-se um limite máximo na profundidade.\n",
    "- **Busca em aprofundamento iterativo**: é feita uma busca em profundidade limitada, incrementando-se sucessivamente o limite máximo da busca."
   ]
  },
  {
   "metadata": {
    "id": "9jxQqJ2yoQvT",
    "colab_type": "text"
   },
   "cell_type": "markdown",
   "source": [
    "**Abstração:**\n",
    "\n",
    "      * Desconsiderar o que não seja relevante para o problema do mundo real"
   ]
  },
  {
   "metadata": {
    "id": "BAzggMPX37ng",
    "colab_type": "text"
   },
   "cell_type": "markdown",
   "source": [
    "**Algoritmos de Busca (Ben Coppin)**:"
   ]
  },
  {
   "metadata": {
    "id": "UHr5iQQi4CXa",
    "colab_type": "code",
    "colab": {}
   },
   "cell_type": "code",
   "source": [
    "Function depth ()\n",
    "{\n",
    "    queue = []; // initialize an empty queue\n",
    "    state = root_node; // initialize the start state\n",
    "    while (true)\n",
    "      {\n",
    "        if is_goal (state)\n",
    "          then return SUCCESS\n",
    "        else add_to_front_of_queue (successors (state));\n",
    "        if queue == []\n",
    "          then report FAILURE;\n",
    "        state = queue [0]; // state = first item in queue\n",
    "        remove_first_item_from (queue);\n",
    "      }\n",
    "}"
   ],
   "execution_count": 0,
   "outputs": []
  },
  {
   "metadata": {
    "id": "srFoTew44WPG",
    "colab_type": "code",
    "colab": {}
   },
   "cell_type": "code",
   "source": [
    "Function recursive_depth (state)\n",
    "{\n",
    "  if is_goal (state)\n",
    "    then return SUCCESS\n",
    "  else\n",
    "  {\n",
    "    remove_from_stack (state);\n",
    "    add_to_stack (successors (state))\n",
    "  }\n",
    "  while (stack != [])\n",
    "  {\n",
    "    if recursive_depth (stack [0]) == SUCCESS\n",
    "      then return SUCCESS;\n",
    "    remove_first_item_from (stack);\n",
    "  }\n",
    "  return FAILURE;\n",
    "}"
   ],
   "execution_count": 0,
   "outputs": []
  },
  {
   "metadata": {
    "id": "tMcF1mxp4h8P",
    "colab_type": "code",
    "colab": {}
   },
   "cell_type": "code",
   "source": [
    "Function breadth ()\n",
    "{\n",
    "  queue = []; // initialize an empty queue\n",
    "  state = root_node; // initialize the start state\n",
    "  while (true)\n",
    "  {\n",
    "    if is_goal (state)\n",
    "        then return SUCCESS\n",
    "    else add_to_back_of_queue (successors (state));\n",
    "    if queue == []\n",
    "       then report FAILURE;\n",
    "    state = queue [0]; // state = first item in queue\n",
    "    remove_first_item_from (queue);\n",
    "  }\n",
    "}"
   ],
   "execution_count": 0,
   "outputs": []
  },
  {
   "metadata": {
    "id": "cougzlfnohBE",
    "colab_type": "text"
   },
   "cell_type": "markdown",
   "source": [
    "## Exemplos de problemas (Russel & Norvig)"
   ]
  },
  {
   "metadata": {
    "id": "nm_Vakc_o6mR",
    "colab_type": "text"
   },
   "cell_type": "markdown",
   "source": [
    "### Problema de roteamento\n",
    "\n",
    "*   Considere que um turista esteja viajando para a Romênia. Ao chegar lá, deseja se deslocar de uma cidade a outra pelo melhor trajeto possível. O turista tem a sua disposição o mapa dado a seguir que mostra as conexões entre as cidades e a distância entre elas. "
   ]
  },
  {
   "metadata": {
    "id": "gJVJlU_mqMlk",
    "colab_type": "text"
   },
   "cell_type": "markdown",
   "source": [
    "<img src=\"http://robotics.cs.tamu.edu/dshell/cs625/images/map.jpg\" height=\"366\" width=\"603\">"
   ]
  },
  {
   "metadata": {
    "id": "c58PsOLJqlH9",
    "colab_type": "text"
   },
   "cell_type": "markdown",
   "source": [
    "* O espaço de estados pode ser representado por um grafo, onde os vértices são os estados do problema (as cidades, neste caso) e as arestas são as ações (neste caso, dirigir pelas estradas).\n",
    "\n",
    "* Representaremos as cidades pela letra inicial do seu nome. O grafo será representado por uma estrutura **dict** que mapeia cada cidade e seus vizinhos diretos (aqueles ligados diretamente à cidade por uma estrada)."
   ]
  },
  {
   "metadata": {
    "id": "L5w0P2Kho6D-",
    "colab_type": "code",
    "colab": {},
    "pycharm": {
     "is_executing": false
    }
   },
   "cell_type": "code",
   "source": [
    "romenia = {\n",
    " 'A': ['Z', 'T', 'S'],\n",
    " 'B': ['F', 'P', 'G', 'U'],\n",
    " 'C': ['D', 'R', 'P'],\n",
    " 'D': ['M', 'C'],\n",
    " 'E': ['H'],\n",
    " 'F': ['S', 'B'],\n",
    " 'G': ['B'],\n",
    " 'H': ['U', 'E'],\n",
    " 'I': ['N', 'V'],\n",
    " 'L': ['T', 'M'],\n",
    " 'M': ['L', 'D'],\n",
    " 'N': ['I'],\n",
    " 'O': ['Z', 'S'],\n",
    " 'P': ['R', 'C', 'B'],\n",
    " 'R': ['S', 'C', 'P'],\n",
    " 'S': ['A', 'O', 'F', 'R'],\n",
    " 'T': ['A', 'L'],\n",
    " 'U': ['B', 'V', 'H'],\n",
    " 'V': ['U', 'I'],\n",
    " 'Z': ['O', 'A']}"
   ],
   "execution_count": 5,
   "outputs": []
  },
  {
   "metadata": {
    "id": "BB1qhXYHrh3d",
    "colab_type": "text"
   },
   "cell_type": "markdown",
   "source": [
    "* Se o turista desejar se deslocar de A para B, deverá considerar os possíveis caminhos a partir de A:"
   ]
  },
  {
   "metadata": {
    "id": "TrBAgvNKrzrJ",
    "colab_type": "code",
    "outputId": "654e9614-3905-4f31-c283-3430af39a8dd",
    "executionInfo": {
     "status": "ok",
     "timestamp": 1553795275631,
     "user_tz": 180,
     "elapsed": 774,
     "user": {
      "displayName": "Cedric Luiz de Carvalho",
      "photoUrl": "https://lh3.googleusercontent.com/-qNxpbho8F9I/AAAAAAAAAAI/AAAAAAAAAAA/kB6G0_OUaTE/s64/photo.jpg",
      "userId": "04194556398971238685"
     }
    },
    "colab": {
     "base_uri": "https://localhost:8080/",
     "height": 34
    },
    "pycharm": {
     "is_executing": false
    }
   },
   "cell_type": "code",
   "source": [
    "romenia['A']"
   ],
   "execution_count": 6,
   "outputs": [
    {
     "data": {
      "text/plain": "['Z', 'T', 'S']"
     },
     "metadata": {},
     "output_type": "execute_result",
     "execution_count": 6
    }
   ]
  },
  {
   "metadata": {
    "id": "FLAZwBoFrix7",
    "colab_type": "text"
   },
   "cell_type": "markdown",
   "source": [
    " **Qual escolher?**\n",
    "\n",
    "* Um dos nós da **fronteira**"
   ]
  },
  {
   "metadata": {
    "id": "OPDCUibdsW2Z",
    "colab_type": "text"
   },
   "cell_type": "markdown",
   "source": [
    "### Busca em largura"
   ]
  },
  {
   "metadata": {
    "id": "pWp0EvOOsF6N",
    "colab_type": "code",
    "colab": {},
    "pycharm": {
     "is_executing": false
    }
   },
   "cell_type": "code",
   "source": [
    "from collections import deque # Doubly-ended queue: pop from left, append to right.\n",
    "\n",
    "def breadth_first(start, goal, neighbors):\n",
    "    \"Find a shortest sequence of states from start to the goal.\"\n",
    "    frontier = deque([start]) # A queue of states\n",
    "    previous = {start: None}  # start has no previous state; other states will\n",
    "    while frontier:\n",
    "        s = frontier.popleft()\n",
    "        if s == goal:\n",
    "            print('s:',s)\n",
    "            return path(previous, s)\n",
    "        for s2 in neighbors[s]:\n",
    "            if s2 not in previous:\n",
    "                frontier.append(s2)\n",
    "                previous[s2] = s\n",
    "                \n",
    "def path(previous, s): \n",
    "    \"Return a list of states that lead to state s, according to the previous dict.\"\n",
    "    return [] if (s is None) else path(previous, previous[s]) + [s]"
   ],
   "execution_count": 7,
   "outputs": []
  },
  {
   "metadata": {
    "id": "Vg25B3g9ujc9",
    "colab_type": "text"
   },
   "cell_type": "markdown",
   "source": [
    "* **Exemplos:**"
   ]
  },
  {
   "metadata": {
    "id": "BKwwCmzduUPW",
    "colab_type": "code",
    "outputId": "c692c036-b38c-4793-9a83-6102d42ced0b",
    "executionInfo": {
     "status": "ok",
     "timestamp": 1553795619686,
     "user_tz": 180,
     "elapsed": 920,
     "user": {
      "displayName": "Cedric Luiz de Carvalho",
      "photoUrl": "https://lh3.googleusercontent.com/-qNxpbho8F9I/AAAAAAAAAAI/AAAAAAAAAAA/kB6G0_OUaTE/s64/photo.jpg",
      "userId": "04194556398971238685"
     }
    },
    "colab": {
     "base_uri": "https://localhost:8080/",
     "height": 52
    },
    "pycharm": {
     "is_executing": false
    }
   },
   "cell_type": "code",
   "source": [
    "breadth_first('A', 'B', romênia)"
   ],
   "execution_count": 8,
   "outputs": [
    {
     "name": "stdout",
     "text": [
      "s: B\n"
     ],
     "output_type": "stream"
    },
    {
     "data": {
      "text/plain": "['A', 'S', 'F', 'B']"
     },
     "metadata": {},
     "output_type": "execute_result",
     "execution_count": 8
    }
   ]
  },
  {
   "metadata": {
    "id": "a6G9V3Ykupzl",
    "colab_type": "code",
    "outputId": "af8a1b5c-ecda-4a6a-a235-abe835a452a6",
    "executionInfo": {
     "status": "ok",
     "timestamp": 1553795622909,
     "user_tz": 180,
     "elapsed": 763,
     "user": {
      "displayName": "Cedric Luiz de Carvalho",
      "photoUrl": "https://lh3.googleusercontent.com/-qNxpbho8F9I/AAAAAAAAAAI/AAAAAAAAAAA/kB6G0_OUaTE/s64/photo.jpg",
      "userId": "04194556398971238685"
     }
    },
    "colab": {
     "base_uri": "https://localhost:8080/",
     "height": 52
    },
    "pycharm": {
     "is_executing": false
    }
   },
   "cell_type": "code",
   "source": [
    "breadth_first('L', 'N', romênia)"
   ],
   "execution_count": 9,
   "outputs": [
    {
     "name": "stdout",
     "text": [
      "s: N\n"
     ],
     "output_type": "stream"
    },
    {
     "data": {
      "text/plain": "['L', 'T', 'A', 'S', 'F', 'B', 'U', 'V', 'I', 'N']"
     },
     "metadata": {},
     "output_type": "execute_result",
     "execution_count": 9
    }
   ]
  },
  {
   "metadata": {
    "id": "6vlk6BoHu3JE",
    "colab_type": "code",
    "outputId": "2302696b-7b7c-4517-8901-a4cb913f63c1",
    "executionInfo": {
     "status": "ok",
     "timestamp": 1553795625167,
     "user_tz": 180,
     "elapsed": 698,
     "user": {
      "displayName": "Cedric Luiz de Carvalho",
      "photoUrl": "https://lh3.googleusercontent.com/-qNxpbho8F9I/AAAAAAAAAAI/AAAAAAAAAAA/kB6G0_OUaTE/s64/photo.jpg",
      "userId": "04194556398971238685"
     }
    },
    "colab": {
     "base_uri": "https://localhost:8080/",
     "height": 52
    },
    "pycharm": {
     "is_executing": false
    }
   },
   "cell_type": "code",
   "source": [
    "breadth_first('N', 'L', romênia)"
   ],
   "execution_count": 10,
   "outputs": [
    {
     "name": "stdout",
     "text": [
      "s: L\n"
     ],
     "output_type": "stream"
    },
    {
     "data": {
      "text/plain": "['N', 'I', 'V', 'U', 'B', 'F', 'S', 'A', 'T', 'L']"
     },
     "metadata": {},
     "output_type": "execute_result",
     "execution_count": 10
    }
   ]
  },
  {
   "metadata": {
    "id": "5I5WQaYPu5yT",
    "colab_type": "code",
    "outputId": "405ed80f-e155-4c0e-89b9-a2528f2bdf4b",
    "executionInfo": {
     "status": "ok",
     "timestamp": 1553795626735,
     "user_tz": 180,
     "elapsed": 631,
     "user": {
      "displayName": "Cedric Luiz de Carvalho",
      "photoUrl": "https://lh3.googleusercontent.com/-qNxpbho8F9I/AAAAAAAAAAI/AAAAAAAAAAA/kB6G0_OUaTE/s64/photo.jpg",
      "userId": "04194556398971238685"
     }
    },
    "colab": {
     "base_uri": "https://localhost:8080/",
     "height": 52
    },
    "pycharm": {
     "is_executing": false
    }
   },
   "cell_type": "code",
   "source": [
    "breadth_first('E', 'E', romênia)"
   ],
   "execution_count": 11,
   "outputs": [
    {
     "name": "stdout",
     "text": [
      "s: E\n"
     ],
     "output_type": "stream"
    },
    {
     "data": {
      "text/plain": "['E']"
     },
     "metadata": {},
     "output_type": "execute_result",
     "execution_count": 11
    }
   ]
  },
  {
   "metadata": {
    "id": "a7kv_r_Pu6qc",
    "colab_type": "text"
   },
   "cell_type": "markdown",
   "source": [
    "### Problema da escada de palavras\n",
    "\n",
    "* Dada uma palavra, transformá-la em uma outra trocando apenas uma letra a cada passo. Por exemplo, para transformar \n",
    "**'dizes'** em **'chapa'** precisamos de **11** passos:\n",
    "\n",
    "'dizes' ->  'dites' ->  'dates' ->  'danes' ->  'danos' ->  'canos' ->  'canoa' ->  'canta' ->\n",
    " 'cauta' ->  'chuta' ->  'chupa' ->  'chapa' \n",
    "\n",
    "\n",
    "Podemos obter uma lista das palavras de 5 letras da Língua Portuguesa. Por exemplo, através do portal: https://www.palavras.net/\n",
    "  \n",
    "  \n",
    " * Antes de iniciar os testes, carregar os arquivos python a seguir para a máquina virtual: util.py e search.py\n",
    "  \n",
    "  "
   ]
  },
  {
   "metadata": {
    "id": "zkOXCqAzxA-3",
    "colab_type": "code",
    "outputId": "95f901a4-cf97-4361-fdef-269112167134",
    "executionInfo": {
     "status": "ok",
     "timestamp": 1553868401161,
     "user_tz": 180,
     "elapsed": 10420,
     "user": {
      "displayName": "Cedric Luiz de Carvalho",
      "photoUrl": "https://lh3.googleusercontent.com/-qNxpbho8F9I/AAAAAAAAAAI/AAAAAAAAAAA/kB6G0_OUaTE/s64/photo.jpg",
      "userId": "04194556398971238685"
     }
    },
    "colab": {
     "resources": {
      "http://localhost:8080/nbextensions/google.colab/files.js": {
       "data": "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",
       "ok": true,
       "headers": [
        [
         "content-type",
         "application/javascript"
        ]
       ],
       "status": 200,
       "status_text": "OK"
      }
     },
     "base_uri": "https://localhost:8080/",
     "height": 79
    }
   },
   "cell_type": "code",
   "source": [
    "from google.colab import files # carregar o arquivo  'palavras.txt', 'search.py' e 'utils.py'\n",
    "uploaded = files.upload()"
   ],
   "execution_count": 3,
   "outputs": [
    {
     "output_type": "display_data",
     "data": {
      "text/html": [
       "\n",
       "     <input type=\"file\" id=\"files-5a2dd88c-32f4-4f46-a078-1085b2b91ba9\" name=\"files[]\" multiple disabled />\n",
       "     <output id=\"result-5a2dd88c-32f4-4f46-a078-1085b2b91ba9\">\n",
       "      Upload widget is only available when the cell has been executed in the\n",
       "      current browser session. Please rerun this cell to enable.\n",
       "      </output>\n",
       "      <script src=\"/nbextensions/google.colab/files.js\"></script> "
      ],
      "text/plain": [
       "<IPython.core.display.HTML object>"
      ]
     },
     "metadata": {
      "tags": []
     }
    },
    {
     "output_type": "stream",
     "text": [
      "Saving palavras.txt to palavras.txt\n"
     ],
     "name": "stdout"
    }
   ]
  },
  {
   "metadata": {
    "id": "a7MMOWlRxMdV",
    "colab_type": "code",
    "outputId": "c3ca504b-7b79-4130-c77b-c86a47aa8eb3",
    "executionInfo": {
     "status": "ok",
     "timestamp": 1553868409121,
     "user_tz": 180,
     "elapsed": 3315,
     "user": {
      "displayName": "Cedric Luiz de Carvalho",
      "photoUrl": "https://lh3.googleusercontent.com/-qNxpbho8F9I/AAAAAAAAAAI/AAAAAAAAAAA/kB6G0_OUaTE/s64/photo.jpg",
      "userId": "04194556398971238685"
     }
    },
    "colab": {
     "base_uri": "https://localhost:8080/",
     "height": 34
    }
   },
   "cell_type": "code",
   "source": [
    "!ls    # checar se o arquivo foi devidamente carregado"
   ],
   "execution_count": 4,
   "outputs": [
    {
     "output_type": "stream",
     "text": [
      "palavras.txt  sample_data  search.py  utils.py\n"
     ],
     "name": "stdout"
    }
   ]
  },
  {
   "metadata": {
    "id": "F4d7X9dL1uhZ",
    "colab_type": "code",
    "colab": {}
   },
   "cell_type": "code",
   "source": [
    "#É preciso criar uma pasta 'aima-data' e o colocar o arquivo de dados dentro dela\n",
    "!mkdir aima-data/"
   ],
   "execution_count": 0,
   "outputs": []
  },
  {
   "metadata": {
    "id": "osfs3qH_1y9B",
    "colab_type": "code",
    "colab": {}
   },
   "cell_type": "code",
   "source": [
    "!mv palavras.txt aima-data/"
   ],
   "execution_count": 0,
   "outputs": []
  },
  {
   "metadata": {
    "id": "ZSsNa1p413ia",
    "colab_type": "code",
    "outputId": "3ffce9c2-96f1-4c74-a05d-582b8bd53074",
    "executionInfo": {
     "status": "ok",
     "timestamp": 1553868419493,
     "user_tz": 180,
     "elapsed": 2569,
     "user": {
      "displayName": "Cedric Luiz de Carvalho",
      "photoUrl": "https://lh3.googleusercontent.com/-qNxpbho8F9I/AAAAAAAAAAI/AAAAAAAAAAA/kB6G0_OUaTE/s64/photo.jpg",
      "userId": "04194556398971238685"
     }
    },
    "colab": {
     "base_uri": "https://localhost:8080/",
     "height": 34
    }
   },
   "cell_type": "code",
   "source": [
    "!ls aima-data/"
   ],
   "execution_count": 7,
   "outputs": [
    {
     "output_type": "stream",
     "text": [
      "palavras.txt\n"
     ],
     "name": "stdout"
    }
   ]
  },
  {
   "metadata": {
    "id": "8f9erg2WxV_u",
    "colab_type": "code",
    "colab": {}
   },
   "cell_type": "code",
   "source": [
    "from search import *\n",
    "sgb_words = open_data(\"palavras.txt\") #https://www.palavras.net/"
   ],
   "execution_count": 0,
   "outputs": []
  },
  {
   "metadata": {
    "id": "cc23bsQtyBm-",
    "colab_type": "text"
   },
   "cell_type": "markdown",
   "source": [
    "* Podemos associar as palavras neste aquivo à variável PALAVRAS:"
   ]
  },
  {
   "metadata": {
    "id": "4G3498TryHau",
    "colab_type": "code",
    "outputId": "d1d51420-7905-4797-fd13-a27a755151e7",
    "executionInfo": {
     "status": "ok",
     "timestamp": 1553868428094,
     "user_tz": 180,
     "elapsed": 870,
     "user": {
      "displayName": "Cedric Luiz de Carvalho",
      "photoUrl": "https://lh3.googleusercontent.com/-qNxpbho8F9I/AAAAAAAAAAI/AAAAAAAAAAA/kB6G0_OUaTE/s64/photo.jpg",
      "userId": "04194556398971238685"
     }
    },
    "colab": {
     "base_uri": "https://localhost:8080/",
     "height": 34
    }
   },
   "cell_type": "code",
   "source": [
    "PALAVRAS = set(sgb_words.read().split())\n",
    "len(PALAVRAS)"
   ],
   "execution_count": 9,
   "outputs": [
    {
     "output_type": "execute_result",
     "data": {
      "text/plain": [
       "2000"
      ]
     },
     "metadata": {
      "tags": []
     },
     "execution_count": 9
    }
   ]
  },
  {
   "metadata": {
    "id": "XzSTywR6yRRa",
    "colab_type": "text"
   },
   "cell_type": "markdown",
   "source": [
    "* Podemos definir uma função que retorna as palavras que diferem apenas uma letra da palavra dada:"
   ]
  },
  {
   "metadata": {
    "id": "17ibsY_AyexU",
    "colab_type": "code",
    "colab": {}
   },
   "cell_type": "code",
   "source": [
    "def vizinhas(word):\n",
    "    \"Gera todas as palavras que diferem de 'word' por apenas uma letra.\"\n",
    "    pal_vizinhas = {word[:i] + c + word[i+1:]\n",
    "                 for i in range(len(word))\n",
    "                 for c in 'abcdefghijklmnopqrstuvwxyz'\n",
    "                 if c != word[i]}\n",
    "    #print('vizinhas:', pal_vizinhas)\n",
    "    return pal_vizinhas & PALAVRAS #Retorna as palavras geradas que estão em PALAVRAS"
   ],
   "execution_count": 0,
   "outputs": []
  },
  {
   "metadata": {
    "id": "MtB8DbYPyxdl",
    "colab_type": "text"
   },
   "cell_type": "markdown",
   "source": [
    "* Exemplos:"
   ]
  },
  {
   "metadata": {
    "id": "Rh9RyRO2yuW_",
    "colab_type": "code",
    "outputId": "356ff2d5-ac0f-4cac-e282-c1f56343ac10",
    "executionInfo": {
     "status": "ok",
     "timestamp": 1553868666660,
     "user_tz": 180,
     "elapsed": 655,
     "user": {
      "displayName": "Cedric Luiz de Carvalho",
      "photoUrl": "https://lh3.googleusercontent.com/-qNxpbho8F9I/AAAAAAAAAAI/AAAAAAAAAAA/kB6G0_OUaTE/s64/photo.jpg",
      "userId": "04194556398971238685"
     }
    },
    "colab": {
     "base_uri": "https://localhost:8080/",
     "height": 34
    }
   },
   "cell_type": "code",
   "source": [
    "vizinhas('dizes')"
   ],
   "execution_count": 22,
   "outputs": [
    {
     "output_type": "execute_result",
     "data": {
      "text/plain": [
       "{'dites', 'dizei', 'dizem', 'dizer'}"
      ]
     },
     "metadata": {
      "tags": []
     },
     "execution_count": 22
    }
   ]
  },
  {
   "metadata": {
    "id": "yyOXxpNKy7um",
    "colab_type": "code",
    "outputId": "f7b08f1d-6282-46f5-b219-1776af0c0be7",
    "executionInfo": {
     "status": "ok",
     "timestamp": 1553868668176,
     "user_tz": 180,
     "elapsed": 837,
     "user": {
      "displayName": "Cedric Luiz de Carvalho",
      "photoUrl": "https://lh3.googleusercontent.com/-qNxpbho8F9I/AAAAAAAAAAI/AAAAAAAAAAA/kB6G0_OUaTE/s64/photo.jpg",
      "userId": "04194556398971238685"
     }
    },
    "colab": {
     "base_uri": "https://localhost:8080/",
     "height": 34
    }
   },
   "cell_type": "code",
   "source": [
    "vizinhas('abafo')"
   ],
   "execution_count": 23,
   "outputs": [
    {
     "output_type": "execute_result",
     "data": {
      "text/plain": [
       "{'abafa', 'abafe', 'abalo', 'abano', 'abato'}"
      ]
     },
     "metadata": {
      "tags": []
     },
     "execution_count": 23
    }
   ]
  },
  {
   "metadata": {
    "id": "xiYm8tbtzL_F",
    "colab_type": "code",
    "outputId": "ec2194fb-b607-41dd-fe17-ca7f54aa3101",
    "executionInfo": {
     "status": "ok",
     "timestamp": 1553868669047,
     "user_tz": 180,
     "elapsed": 692,
     "user": {
      "displayName": "Cedric Luiz de Carvalho",
      "photoUrl": "https://lh3.googleusercontent.com/-qNxpbho8F9I/AAAAAAAAAAI/AAAAAAAAAAA/kB6G0_OUaTE/s64/photo.jpg",
      "userId": "04194556398971238685"
     }
    },
    "colab": {
     "base_uri": "https://localhost:8080/",
     "height": 34
    }
   },
   "cell_type": "code",
   "source": [
    "vizinhas('átrio')"
   ],
   "execution_count": 24,
   "outputs": [
    {
     "output_type": "execute_result",
     "data": {
      "text/plain": [
       "set()"
      ]
     },
     "metadata": {
      "tags": []
     },
     "execution_count": 24
    }
   ]
  },
  {
   "metadata": {
    "id": "xQz89mr_zPaQ",
    "colab_type": "text"
   },
   "cell_type": "markdown",
   "source": [
    "* Agora, podemos criar um dicionário para acomodar as vizinhas: {palavra: {vizinha, ...}}:"
   ]
  },
  {
   "metadata": {
    "id": "E06TPJe8ze7B",
    "colab_type": "code",
    "colab": {}
   },
   "cell_type": "code",
   "source": [
    "palavras_vizinhas = {word: vizinhas(word)\n",
    "                  for word in PALAVRAS}"
   ],
   "execution_count": 0,
   "outputs": []
  },
  {
   "metadata": {
    "id": "FomzrfE4eK9d",
    "colab_type": "code",
    "colab": {}
   },
   "cell_type": "code",
   "source": [
    "#palavras_vizinhas"
   ],
   "execution_count": 0,
   "outputs": []
  },
  {
   "metadata": {
    "id": "r83CtSdCzlxx",
    "colab_type": "text"
   },
   "cell_type": "markdown",
   "source": [
    "* Agora podemos usar a **busca em largura** para resolver o problema em questão:"
   ]
  },
  {
   "metadata": {
    "id": "CtxYrEOEztwb",
    "colab_type": "code",
    "outputId": "e257acd2-610f-40ba-9aaf-bd1fee0531c1",
    "executionInfo": {
     "status": "ok",
     "timestamp": 1553868678298,
     "user_tz": 180,
     "elapsed": 575,
     "user": {
      "displayName": "Cedric Luiz de Carvalho",
      "photoUrl": "https://lh3.googleusercontent.com/-qNxpbho8F9I/AAAAAAAAAAI/AAAAAAAAAAA/kB6G0_OUaTE/s64/photo.jpg",
      "userId": "04194556398971238685"
     }
    },
    "colab": {
     "base_uri": "https://localhost:8080/",
     "height": 295
    }
   },
   "cell_type": "code",
   "source": [
    "breadth_first('abafo', 'dobro', palavras_vizinhas )"
   ],
   "execution_count": 27,
   "outputs": [
    {
     "output_type": "stream",
     "text": [
      "s: dobro\n"
     ],
     "name": "stdout"
    },
    {
     "output_type": "execute_result",
     "data": {
      "text/plain": [
       "['abafo',\n",
       " 'abato',\n",
       " 'acato',\n",
       " 'aceto',\n",
       " 'aceno',\n",
       " 'ameno',\n",
       " 'amemo',\n",
       " 'aremo',\n",
       " 'cremo',\n",
       " 'coemo',\n",
       " 'coevo',\n",
       " 'corvo',\n",
       " 'corro',\n",
       " 'cobro',\n",
       " 'dobro']"
      ]
     },
     "metadata": {
      "tags": []
     },
     "execution_count": 27
    }
   ]
  },
  {
   "metadata": {
    "id": "sQQezgZGz2Q1",
    "colab_type": "code",
    "outputId": "e410ef3d-7069-490e-ffe6-d300917e21f3",
    "executionInfo": {
     "status": "ok",
     "timestamp": 1553868680440,
     "user_tz": 180,
     "elapsed": 667,
     "user": {
      "displayName": "Cedric Luiz de Carvalho",
      "photoUrl": "https://lh3.googleusercontent.com/-qNxpbho8F9I/AAAAAAAAAAI/AAAAAAAAAAA/kB6G0_OUaTE/s64/photo.jpg",
      "userId": "04194556398971238685"
     }
    },
    "colab": {
     "base_uri": "https://localhost:8080/",
     "height": 243
    }
   },
   "cell_type": "code",
   "source": [
    "breadth_first('dizes', 'chapa', palavras_vizinhas )"
   ],
   "execution_count": 28,
   "outputs": [
    {
     "output_type": "stream",
     "text": [
      "s: chapa\n"
     ],
     "name": "stdout"
    },
    {
     "output_type": "execute_result",
     "data": {
      "text/plain": [
       "['dizes',\n",
       " 'dites',\n",
       " 'dates',\n",
       " 'danes',\n",
       " 'danos',\n",
       " 'canos',\n",
       " 'canoa',\n",
       " 'canta',\n",
       " 'cauta',\n",
       " 'chuta',\n",
       " 'chupa',\n",
       " 'chapa']"
      ]
     },
     "metadata": {
      "tags": []
     },
     "execution_count": 28
    }
   ]
  },
  {
   "metadata": {
    "id": "tzDHkkDU3CZ9",
    "colab_type": "text"
   },
   "cell_type": "markdown",
   "source": [
    "# Atividade Prática"
   ]
  },
  {
   "metadata": {
    "id": "tTJvIOLu3Iup",
    "colab_type": "text"
   },
   "cell_type": "markdown",
   "source": [
    "* Deseja-se identificar a melhor rota para uma viagem rodoviária pelas capitais brasileiras. Para isso pode-se utilizar os dados obtidos do portal: [Itatrans](http://www.itatrans.com.br/distancia.html) e armazenados no arquivo **capitais.csv.**\n",
    "\n",
    "* A porção inferior da planilha (células abaixo daquela com valor 0), traz à distância rodoviária entre as cidades. A porção superior, indica as distâncias aéreas entre as cidades.\n",
    "\n",
    "* Considere que o mapa a seguir indique as conexões rodoviárias entre as capitais.  As conexões diretas entre as cidades estão indicadas no arquivo **conexCapitais.csv**"
   ]
  },
  {
   "metadata": {
    "id": "7hKSRfRoK-0N",
    "colab_type": "code",
    "outputId": "423671df-39c2-4836-abd1-83b173a95684",
    "executionInfo": {
     "status": "ok",
     "timestamp": 1553796962983,
     "user_tz": 180,
     "elapsed": 32986,
     "user": {
      "displayName": "Cedric Luiz de Carvalho",
      "photoUrl": "https://lh3.googleusercontent.com/-qNxpbho8F9I/AAAAAAAAAAI/AAAAAAAAAAA/kB6G0_OUaTE/s64/photo.jpg",
      "userId": "04194556398971238685"
     }
    },
    "colab": {
     "resources": {
      "http://localhost:8080/nbextensions/google.colab/files.js": {
       "data": "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",
       "ok": true,
       "headers": [
        [
         "content-type",
         "application/javascript"
        ]
       ],
       "status": 200,
       "status_text": "OK"
      }
     },
     "base_uri": "https://localhost:8080/",
     "height": 42
    },
    "pycharm": {
     "is_executing": false
    }
   },
   "cell_type": "code",
   "source": [
    "from google.colab import files # carregar o arquivo  'mapa-brasil-estados-capitais.jpg'\n",
    "uploaded = files.upload()"
   ],
   "execution_count": 12,
   "outputs": [
    {
     "traceback": [
      "\u001b[0;31m---------------------------------------------------------------------------\u001b[0m",
      "\u001b[0;31mModuleNotFoundError\u001b[0m                       Traceback (most recent call last)",
      "\u001b[0;32m<ipython-input-12-30f0b586b6f2>\u001b[0m in \u001b[0;36m<module>\u001b[0;34m\u001b[0m\n\u001b[0;32m----> 1\u001b[0;31m \u001b[0;32mfrom\u001b[0m \u001b[0mgoogle\u001b[0m\u001b[0;34m.\u001b[0m\u001b[0mcolab\u001b[0m \u001b[0;32mimport\u001b[0m \u001b[0mfiles\u001b[0m \u001b[0;31m# carregar o arquivo  'mapa-brasil-estados-capitais.jpg'\u001b[0m\u001b[0;34m\u001b[0m\u001b[0;34m\u001b[0m\u001b[0m\n\u001b[0m\u001b[1;32m      2\u001b[0m \u001b[0muploaded\u001b[0m \u001b[0;34m=\u001b[0m \u001b[0mfiles\u001b[0m\u001b[0;34m.\u001b[0m\u001b[0mupload\u001b[0m\u001b[0;34m(\u001b[0m\u001b[0;34m)\u001b[0m\u001b[0;34m\u001b[0m\u001b[0;34m\u001b[0m\u001b[0m\n\u001b[1;32m      3\u001b[0m \u001b[0;34m\u001b[0m\u001b[0m\n",
      "\u001b[0;31mModuleNotFoundError\u001b[0m: No module named 'google.colab'"
     ],
     "ename": "ModuleNotFoundError",
     "evalue": "No module named 'google.colab'",
     "output_type": "error"
    }
   ]
  },
  {
   "metadata": {
    "id": "hbYgOVl3qu1Q",
    "colab_type": "code",
    "colab": {}
   },
   "cell_type": "code",
   "source": [
    "!mkdir img/"
   ],
   "execution_count": 0,
   "outputs": []
  },
  {
   "metadata": {
    "id": "R9aGMn5L5IQ4",
    "colab_type": "code",
    "outputId": "c354e335-8ed7-49c8-a7a8-9ea1b1cd7e42",
    "executionInfo": {
     "status": "ok",
     "timestamp": 1553796969624,
     "user_tz": 180,
     "elapsed": 2750,
     "user": {
      "displayName": "Cedric Luiz de Carvalho",
      "photoUrl": "https://lh3.googleusercontent.com/-qNxpbho8F9I/AAAAAAAAAAI/AAAAAAAAAAA/kB6G0_OUaTE/s64/photo.jpg",
      "userId": "04194556398971238685"
     }
    },
    "colab": {
     "base_uri": "https://localhost:8080/",
     "height": 34
    }
   },
   "cell_type": "code",
   "source": [
    "!mv mapa-brasil-estados-capitais.jpg img/"
   ],
   "execution_count": 0,
   "outputs": [
    {
     "output_type": "stream",
     "text": [
      "mv: cannot stat 'mapa-brasil-estados-capitais.jpg': No such file or directory\n"
     ],
     "name": "stdout"
    }
   ]
  },
  {
   "metadata": {
    "id": "HXqO7Vd-50Q3",
    "colab_type": "code",
    "colab": {}
   },
   "cell_type": "code",
   "source": [
    "from IPython.display import Image\n",
    "Image(\"img/mapa-brasil-estados-capitais.jpg\")"
   ],
   "execution_count": 0,
   "outputs": []
  },
  {
   "metadata": {
    "id": "cAF8yEPoC3ew",
    "colab_type": "text"
   },
   "cell_type": "markdown",
   "source": [
    "*  Defina um modelo para este problema.\n",
    "*  Construa uma implementação computacional para a solução do problema, utilizando as seguintes estratégias:\n",
    "\n",
    "     1.   Busca em largura\n",
    "     2.   Busca em profundidade\n",
    "     3.   Busca em profundidade limitada\n",
    "     4.   Busca em aprofundamento iterativo\n",
    "     5.   Busca de custo uniforme (considerar a distância rodoviária entre as cidades como o custo do caminho entre elas)\n",
    "     \n",
    "* Para cada estratégia implementada, meça o tempo gasto para encontrar a solução e o espaço de armazenamento utilizado (número de nós gerados).\n",
    "\n",
    "\n"
   ]
  }
 ]
}