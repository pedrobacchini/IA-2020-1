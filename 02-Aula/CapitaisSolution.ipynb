{
 "cells": [
  {
   "cell_type": "code",
   "execution_count": 32,
   "outputs": [],
   "source": [
    "import pandas as pd\n",
    "\n",
    "dataset_dist_capital = pd.read_csv('distCapitais.csv')\n",
    "\n",
    "dataset_conex_capital = pd.read_csv('conexCapitais.csv')"
   ],
   "metadata": {
    "collapsed": false,
    "pycharm": {
     "name": "#%%\n",
     "is_executing": false
    }
   }
  },
  {
   "cell_type": "code",
   "execution_count": 33,
   "outputs": [
    {
     "data": {
      "text/plain": "      Unnamed: 0 Aracaju Belém Belo Horizonte Boa Vista Brasília Campo Grande  \\\n0        Aracaju       0  1641           1248      3022     1292         2155   \n1          Belém    2079     0           2111      1432     1592         2212   \n2   B. Horizonte    1578  2824              0      3117      624         1118   \n3      Boa Vista    6000  6083           4736         0     2496         2667   \n4       Brasília    1652  2120            716      4275        0          878   \n5      C. Grande    2765  2942           1453      3836     1134            0   \n6         Cuiabá    2775  2941           1594      3142     1133          694   \n7       Curitiba    2595  3193           1004      4821     1366          991   \n8  Florianópolis    2892  3500           1301      5128     1673         1298   \n9      Fortaleza    1183  1610           2528      6548     2200         3407   \n\n  Cuiabá Curitiba Florianópolis  ... Porto Alegre Porto Velho Recife  \\\n0   2121     2061          2207  ...         2580        2946    398   \n1   1778     2665          2904  ...         3188        1886   1676   \n2   1372      820           973  ...         1341        2477   1639   \n3   2107     3370          3620  ...         3785        1335   3103   \n4    873     1081          1314  ...         1619        1900   1657   \n5    559      780          1007  ...         1119        1634   2530   \n6      0     1302          1543  ...         1679        1137   2452   \n7   1679        0           251  ...          546        2412   2459   \n8   1986      300             0  ...          376        2641   2603   \n9   3406     3541          3838  ...         3213        2855    629   \n\n  Rio Branco  R. Janeiro  Salvador  São Luis São Paulo  Teresina  Vitória  \n0       3359        1482       277      1226      1731       903     1102  \n1       2333        2450      1687       481      2463       750     2275  \n2       2786         339       964      1932       489      1652      378  \n3       1626        3428      3009      1913      3300      2169     3394  \n4       2246         933      1060      1524       873      1313      947  \n5       1827        1212      1905      2284       894      2132     1490  \n6       1414        1575      1915      1942      1326      1862     1745  \n7       2601         675      1784      2599       338      2362     1076  \n8       2809         748      1930      2821       489      2573     1160  \n9       3300        2190      1028       652      2368       495     1855  \n\n[10 rows x 28 columns]",
      "text/html": "<div>\n<style scoped>\n    .dataframe tbody tr th:only-of-type {\n        vertical-align: middle;\n    }\n\n    .dataframe tbody tr th {\n        vertical-align: top;\n    }\n\n    .dataframe thead th {\n        text-align: right;\n    }\n</style>\n<table border=\"1\" class=\"dataframe\">\n  <thead>\n    <tr style=\"text-align: right;\">\n      <th></th>\n      <th>Unnamed: 0</th>\n      <th>Aracaju</th>\n      <th>Belém</th>\n      <th>Belo Horizonte</th>\n      <th>Boa Vista</th>\n      <th>Brasília</th>\n      <th>Campo Grande</th>\n      <th>Cuiabá</th>\n      <th>Curitiba</th>\n      <th>Florianópolis</th>\n      <th>...</th>\n      <th>Porto Alegre</th>\n      <th>Porto Velho</th>\n      <th>Recife</th>\n      <th>Rio Branco</th>\n      <th>R. Janeiro</th>\n      <th>Salvador</th>\n      <th>São Luis</th>\n      <th>São Paulo</th>\n      <th>Teresina</th>\n      <th>Vitória</th>\n    </tr>\n  </thead>\n  <tbody>\n    <tr>\n      <th>0</th>\n      <td>Aracaju</td>\n      <td>0</td>\n      <td>1641</td>\n      <td>1248</td>\n      <td>3022</td>\n      <td>1292</td>\n      <td>2155</td>\n      <td>2121</td>\n      <td>2061</td>\n      <td>2207</td>\n      <td>...</td>\n      <td>2580</td>\n      <td>2946</td>\n      <td>398</td>\n      <td>3359</td>\n      <td>1482</td>\n      <td>277</td>\n      <td>1226</td>\n      <td>1731</td>\n      <td>903</td>\n      <td>1102</td>\n    </tr>\n    <tr>\n      <th>1</th>\n      <td>Belém</td>\n      <td>2079</td>\n      <td>0</td>\n      <td>2111</td>\n      <td>1432</td>\n      <td>1592</td>\n      <td>2212</td>\n      <td>1778</td>\n      <td>2665</td>\n      <td>2904</td>\n      <td>...</td>\n      <td>3188</td>\n      <td>1886</td>\n      <td>1676</td>\n      <td>2333</td>\n      <td>2450</td>\n      <td>1687</td>\n      <td>481</td>\n      <td>2463</td>\n      <td>750</td>\n      <td>2275</td>\n    </tr>\n    <tr>\n      <th>2</th>\n      <td>B. Horizonte</td>\n      <td>1578</td>\n      <td>2824</td>\n      <td>0</td>\n      <td>3117</td>\n      <td>624</td>\n      <td>1118</td>\n      <td>1372</td>\n      <td>820</td>\n      <td>973</td>\n      <td>...</td>\n      <td>1341</td>\n      <td>2477</td>\n      <td>1639</td>\n      <td>2786</td>\n      <td>339</td>\n      <td>964</td>\n      <td>1932</td>\n      <td>489</td>\n      <td>1652</td>\n      <td>378</td>\n    </tr>\n    <tr>\n      <th>3</th>\n      <td>Boa Vista</td>\n      <td>6000</td>\n      <td>6083</td>\n      <td>4736</td>\n      <td>0</td>\n      <td>2496</td>\n      <td>2667</td>\n      <td>2107</td>\n      <td>3370</td>\n      <td>3620</td>\n      <td>...</td>\n      <td>3785</td>\n      <td>1335</td>\n      <td>3103</td>\n      <td>1626</td>\n      <td>3428</td>\n      <td>3009</td>\n      <td>1913</td>\n      <td>3300</td>\n      <td>2169</td>\n      <td>3394</td>\n    </tr>\n    <tr>\n      <th>4</th>\n      <td>Brasília</td>\n      <td>1652</td>\n      <td>2120</td>\n      <td>716</td>\n      <td>4275</td>\n      <td>0</td>\n      <td>878</td>\n      <td>873</td>\n      <td>1081</td>\n      <td>1314</td>\n      <td>...</td>\n      <td>1619</td>\n      <td>1900</td>\n      <td>1657</td>\n      <td>2246</td>\n      <td>933</td>\n      <td>1060</td>\n      <td>1524</td>\n      <td>873</td>\n      <td>1313</td>\n      <td>947</td>\n    </tr>\n    <tr>\n      <th>5</th>\n      <td>C. Grande</td>\n      <td>2765</td>\n      <td>2942</td>\n      <td>1453</td>\n      <td>3836</td>\n      <td>1134</td>\n      <td>0</td>\n      <td>559</td>\n      <td>780</td>\n      <td>1007</td>\n      <td>...</td>\n      <td>1119</td>\n      <td>1634</td>\n      <td>2530</td>\n      <td>1827</td>\n      <td>1212</td>\n      <td>1905</td>\n      <td>2284</td>\n      <td>894</td>\n      <td>2132</td>\n      <td>1490</td>\n    </tr>\n    <tr>\n      <th>6</th>\n      <td>Cuiabá</td>\n      <td>2775</td>\n      <td>2941</td>\n      <td>1594</td>\n      <td>3142</td>\n      <td>1133</td>\n      <td>694</td>\n      <td>0</td>\n      <td>1302</td>\n      <td>1543</td>\n      <td>...</td>\n      <td>1679</td>\n      <td>1137</td>\n      <td>2452</td>\n      <td>1414</td>\n      <td>1575</td>\n      <td>1915</td>\n      <td>1942</td>\n      <td>1326</td>\n      <td>1862</td>\n      <td>1745</td>\n    </tr>\n    <tr>\n      <th>7</th>\n      <td>Curitiba</td>\n      <td>2595</td>\n      <td>3193</td>\n      <td>1004</td>\n      <td>4821</td>\n      <td>1366</td>\n      <td>991</td>\n      <td>1679</td>\n      <td>0</td>\n      <td>251</td>\n      <td>...</td>\n      <td>546</td>\n      <td>2412</td>\n      <td>2459</td>\n      <td>2601</td>\n      <td>675</td>\n      <td>1784</td>\n      <td>2599</td>\n      <td>338</td>\n      <td>2362</td>\n      <td>1076</td>\n    </tr>\n    <tr>\n      <th>8</th>\n      <td>Florianópolis</td>\n      <td>2892</td>\n      <td>3500</td>\n      <td>1301</td>\n      <td>5128</td>\n      <td>1673</td>\n      <td>1298</td>\n      <td>1986</td>\n      <td>300</td>\n      <td>0</td>\n      <td>...</td>\n      <td>376</td>\n      <td>2641</td>\n      <td>2603</td>\n      <td>2809</td>\n      <td>748</td>\n      <td>1930</td>\n      <td>2821</td>\n      <td>489</td>\n      <td>2573</td>\n      <td>1160</td>\n    </tr>\n    <tr>\n      <th>9</th>\n      <td>Fortaleza</td>\n      <td>1183</td>\n      <td>1610</td>\n      <td>2528</td>\n      <td>6548</td>\n      <td>2200</td>\n      <td>3407</td>\n      <td>3406</td>\n      <td>3541</td>\n      <td>3838</td>\n      <td>...</td>\n      <td>3213</td>\n      <td>2855</td>\n      <td>629</td>\n      <td>3300</td>\n      <td>2190</td>\n      <td>1028</td>\n      <td>652</td>\n      <td>2368</td>\n      <td>495</td>\n      <td>1855</td>\n    </tr>\n  </tbody>\n</table>\n<p>10 rows × 28 columns</p>\n</div>"
     },
     "metadata": {},
     "output_type": "execute_result",
     "execution_count": 33
    }
   ],
   "source": [
    "dataset_dist_capital.head(10)"
   ],
   "metadata": {
    "collapsed": false,
    "pycharm": {
     "name": "#%%\n",
     "is_executing": false
    }
   }
  },
  {
   "cell_type": "code",
   "execution_count": 34,
   "outputs": [
    {
     "data": {
      "text/plain": "      Unnamed: 0  Aracaju  Belém  Belo Horizonte  Boa Vista  Brasília  \\\n0        Aracaju      1.0    NaN             NaN        NaN       NaN   \n1          Belém      NaN    1.0             NaN        NaN       NaN   \n2   B. Horizonte      NaN    NaN             1.0        NaN       1.0   \n3      Boa Vista      NaN    NaN             NaN        1.0       NaN   \n4       Brasília      NaN    NaN             1.0        NaN       1.0   \n5      C. Grande      NaN    NaN             NaN        NaN       NaN   \n6         Cuiabá      NaN    NaN             NaN        NaN       NaN   \n7       Curitiba      NaN    NaN             NaN        NaN       NaN   \n8  Florianópolis      NaN    NaN             NaN        NaN       NaN   \n9      Fortaleza      NaN    NaN             NaN        NaN       NaN   \n\n   Campo Grande  Cuiabá  Curitiba  Florianópolis  ...  Porto Alegre  \\\n0           NaN     NaN       NaN            NaN  ...           NaN   \n1           NaN     NaN       NaN            NaN  ...           NaN   \n2           NaN     NaN       NaN            NaN  ...           NaN   \n3           NaN     NaN       NaN            NaN  ...           NaN   \n4           NaN     NaN       NaN            NaN  ...           NaN   \n5           1.0     1.0       NaN            NaN  ...           1.0   \n6           1.0     1.0       NaN            NaN  ...           NaN   \n7           NaN     NaN       1.0            1.0  ...           1.0   \n8           NaN     NaN       1.0            1.0  ...           1.0   \n9           NaN     NaN       NaN            NaN  ...           NaN   \n\n   Porto Velho  Recife  Rio Branco  R. Janeiro  Salvador  São Luis  São Paulo  \\\n0          NaN     NaN         NaN         NaN       1.0       NaN        NaN   \n1          NaN     NaN         NaN         NaN       NaN       1.0        NaN   \n2          NaN     NaN         NaN         1.0       NaN       NaN        1.0   \n3          NaN     NaN         NaN         NaN       NaN       NaN        NaN   \n4          NaN     NaN         NaN         NaN       1.0       NaN        1.0   \n5          NaN     NaN         NaN         NaN       NaN       NaN        1.0   \n6          1.0     NaN         NaN         NaN       NaN       NaN        NaN   \n7          NaN     NaN         NaN         NaN       NaN       NaN        1.0   \n8          NaN     NaN         NaN         NaN       NaN       NaN        NaN   \n9          NaN     NaN         NaN         NaN       1.0       NaN        NaN   \n\n   Teresina  Vitória  \n0       NaN      NaN  \n1       NaN      NaN  \n2       NaN      NaN  \n3       NaN      NaN  \n4       NaN      NaN  \n5       NaN      NaN  \n6       NaN      NaN  \n7       NaN      NaN  \n8       NaN      NaN  \n9       1.0      NaN  \n\n[10 rows x 28 columns]",
      "text/html": "<div>\n<style scoped>\n    .dataframe tbody tr th:only-of-type {\n        vertical-align: middle;\n    }\n\n    .dataframe tbody tr th {\n        vertical-align: top;\n    }\n\n    .dataframe thead th {\n        text-align: right;\n    }\n</style>\n<table border=\"1\" class=\"dataframe\">\n  <thead>\n    <tr style=\"text-align: right;\">\n      <th></th>\n      <th>Unnamed: 0</th>\n      <th>Aracaju</th>\n      <th>Belém</th>\n      <th>Belo Horizonte</th>\n      <th>Boa Vista</th>\n      <th>Brasília</th>\n      <th>Campo Grande</th>\n      <th>Cuiabá</th>\n      <th>Curitiba</th>\n      <th>Florianópolis</th>\n      <th>...</th>\n      <th>Porto Alegre</th>\n      <th>Porto Velho</th>\n      <th>Recife</th>\n      <th>Rio Branco</th>\n      <th>R. Janeiro</th>\n      <th>Salvador</th>\n      <th>São Luis</th>\n      <th>São Paulo</th>\n      <th>Teresina</th>\n      <th>Vitória</th>\n    </tr>\n  </thead>\n  <tbody>\n    <tr>\n      <th>0</th>\n      <td>Aracaju</td>\n      <td>1.0</td>\n      <td>NaN</td>\n      <td>NaN</td>\n      <td>NaN</td>\n      <td>NaN</td>\n      <td>NaN</td>\n      <td>NaN</td>\n      <td>NaN</td>\n      <td>NaN</td>\n      <td>...</td>\n      <td>NaN</td>\n      <td>NaN</td>\n      <td>NaN</td>\n      <td>NaN</td>\n      <td>NaN</td>\n      <td>1.0</td>\n      <td>NaN</td>\n      <td>NaN</td>\n      <td>NaN</td>\n      <td>NaN</td>\n    </tr>\n    <tr>\n      <th>1</th>\n      <td>Belém</td>\n      <td>NaN</td>\n      <td>1.0</td>\n      <td>NaN</td>\n      <td>NaN</td>\n      <td>NaN</td>\n      <td>NaN</td>\n      <td>NaN</td>\n      <td>NaN</td>\n      <td>NaN</td>\n      <td>...</td>\n      <td>NaN</td>\n      <td>NaN</td>\n      <td>NaN</td>\n      <td>NaN</td>\n      <td>NaN</td>\n      <td>NaN</td>\n      <td>1.0</td>\n      <td>NaN</td>\n      <td>NaN</td>\n      <td>NaN</td>\n    </tr>\n    <tr>\n      <th>2</th>\n      <td>B. Horizonte</td>\n      <td>NaN</td>\n      <td>NaN</td>\n      <td>1.0</td>\n      <td>NaN</td>\n      <td>1.0</td>\n      <td>NaN</td>\n      <td>NaN</td>\n      <td>NaN</td>\n      <td>NaN</td>\n      <td>...</td>\n      <td>NaN</td>\n      <td>NaN</td>\n      <td>NaN</td>\n      <td>NaN</td>\n      <td>1.0</td>\n      <td>NaN</td>\n      <td>NaN</td>\n      <td>1.0</td>\n      <td>NaN</td>\n      <td>NaN</td>\n    </tr>\n    <tr>\n      <th>3</th>\n      <td>Boa Vista</td>\n      <td>NaN</td>\n      <td>NaN</td>\n      <td>NaN</td>\n      <td>1.0</td>\n      <td>NaN</td>\n      <td>NaN</td>\n      <td>NaN</td>\n      <td>NaN</td>\n      <td>NaN</td>\n      <td>...</td>\n      <td>NaN</td>\n      <td>NaN</td>\n      <td>NaN</td>\n      <td>NaN</td>\n      <td>NaN</td>\n      <td>NaN</td>\n      <td>NaN</td>\n      <td>NaN</td>\n      <td>NaN</td>\n      <td>NaN</td>\n    </tr>\n    <tr>\n      <th>4</th>\n      <td>Brasília</td>\n      <td>NaN</td>\n      <td>NaN</td>\n      <td>1.0</td>\n      <td>NaN</td>\n      <td>1.0</td>\n      <td>NaN</td>\n      <td>NaN</td>\n      <td>NaN</td>\n      <td>NaN</td>\n      <td>...</td>\n      <td>NaN</td>\n      <td>NaN</td>\n      <td>NaN</td>\n      <td>NaN</td>\n      <td>NaN</td>\n      <td>1.0</td>\n      <td>NaN</td>\n      <td>1.0</td>\n      <td>NaN</td>\n      <td>NaN</td>\n    </tr>\n    <tr>\n      <th>5</th>\n      <td>C. Grande</td>\n      <td>NaN</td>\n      <td>NaN</td>\n      <td>NaN</td>\n      <td>NaN</td>\n      <td>NaN</td>\n      <td>1.0</td>\n      <td>1.0</td>\n      <td>NaN</td>\n      <td>NaN</td>\n      <td>...</td>\n      <td>1.0</td>\n      <td>NaN</td>\n      <td>NaN</td>\n      <td>NaN</td>\n      <td>NaN</td>\n      <td>NaN</td>\n      <td>NaN</td>\n      <td>1.0</td>\n      <td>NaN</td>\n      <td>NaN</td>\n    </tr>\n    <tr>\n      <th>6</th>\n      <td>Cuiabá</td>\n      <td>NaN</td>\n      <td>NaN</td>\n      <td>NaN</td>\n      <td>NaN</td>\n      <td>NaN</td>\n      <td>1.0</td>\n      <td>1.0</td>\n      <td>NaN</td>\n      <td>NaN</td>\n      <td>...</td>\n      <td>NaN</td>\n      <td>1.0</td>\n      <td>NaN</td>\n      <td>NaN</td>\n      <td>NaN</td>\n      <td>NaN</td>\n      <td>NaN</td>\n      <td>NaN</td>\n      <td>NaN</td>\n      <td>NaN</td>\n    </tr>\n    <tr>\n      <th>7</th>\n      <td>Curitiba</td>\n      <td>NaN</td>\n      <td>NaN</td>\n      <td>NaN</td>\n      <td>NaN</td>\n      <td>NaN</td>\n      <td>NaN</td>\n      <td>NaN</td>\n      <td>1.0</td>\n      <td>1.0</td>\n      <td>...</td>\n      <td>1.0</td>\n      <td>NaN</td>\n      <td>NaN</td>\n      <td>NaN</td>\n      <td>NaN</td>\n      <td>NaN</td>\n      <td>NaN</td>\n      <td>1.0</td>\n      <td>NaN</td>\n      <td>NaN</td>\n    </tr>\n    <tr>\n      <th>8</th>\n      <td>Florianópolis</td>\n      <td>NaN</td>\n      <td>NaN</td>\n      <td>NaN</td>\n      <td>NaN</td>\n      <td>NaN</td>\n      <td>NaN</td>\n      <td>NaN</td>\n      <td>1.0</td>\n      <td>1.0</td>\n      <td>...</td>\n      <td>1.0</td>\n      <td>NaN</td>\n      <td>NaN</td>\n      <td>NaN</td>\n      <td>NaN</td>\n      <td>NaN</td>\n      <td>NaN</td>\n      <td>NaN</td>\n      <td>NaN</td>\n      <td>NaN</td>\n    </tr>\n    <tr>\n      <th>9</th>\n      <td>Fortaleza</td>\n      <td>NaN</td>\n      <td>NaN</td>\n      <td>NaN</td>\n      <td>NaN</td>\n      <td>NaN</td>\n      <td>NaN</td>\n      <td>NaN</td>\n      <td>NaN</td>\n      <td>NaN</td>\n      <td>...</td>\n      <td>NaN</td>\n      <td>NaN</td>\n      <td>NaN</td>\n      <td>NaN</td>\n      <td>NaN</td>\n      <td>1.0</td>\n      <td>NaN</td>\n      <td>NaN</td>\n      <td>1.0</td>\n      <td>NaN</td>\n    </tr>\n  </tbody>\n</table>\n<p>10 rows × 28 columns</p>\n</div>"
     },
     "metadata": {},
     "output_type": "execute_result",
     "execution_count": 34
    }
   ],
   "source": [
    "dataset_conex_capital.head(10)"
   ],
   "metadata": {
    "collapsed": false,
    "pycharm": {
     "name": "#%%\n",
     "is_executing": false
    }
   }
  },
  {
   "cell_type": "code",
   "execution_count": 48,
   "outputs": [],
   "source": [
    "capital_labels = dataset_dist_capital.iloc[:, 0:1].values"
   ],
   "metadata": {
    "collapsed": false,
    "pycharm": {
     "name": "#%%\n",
     "is_executing": false
    }
   }
  },
  {
   "cell_type": "code",
   "execution_count": 49,
   "outputs": [
    {
     "name": "stdout",
     "text": [
      "[['Aracaju']\n",
      " ['Belém']\n",
      " ['B. Horizonte']\n",
      " ['Boa Vista']\n",
      " ['Brasília']\n",
      " ['C. Grande']\n",
      " ['Cuiabá']\n",
      " ['Curitiba']\n",
      " ['Florianópolis']\n",
      " ['Fortaleza']\n",
      " ['Goiânia']\n",
      " ['João Pessoa']\n",
      " ['Macapá']\n",
      " ['Maceió']\n",
      " ['Manaus']\n",
      " ['Natal']\n",
      " ['Palmas']\n",
      " ['Porto Alegre']\n",
      " ['Porto Velho']\n",
      " ['Recife']\n",
      " ['Rio Branco']\n",
      " ['R. Janeiro']\n",
      " ['Salvador']\n",
      " ['São Luis']\n",
      " ['São Paulo']\n",
      " ['Teresina']\n",
      " ['Vitória']]\n"
     ],
     "output_type": "stream"
    }
   ],
   "source": [
    "print(capital_labels)"
   ],
   "metadata": {
    "collapsed": false,
    "pycharm": {
     "name": "#%%\n",
     "is_executing": false
    }
   }
  },
  {
   "cell_type": "code",
   "execution_count": 50,
   "outputs": [
    {
     "name": "stdout",
     "text": [
      "['Aracaju']\n",
      "['Belém']\n",
      "['B. Horizonte']\n",
      "['Boa Vista']\n",
      "['Brasília']\n",
      "['C. Grande']\n",
      "['Cuiabá']\n",
      "['Curitiba']\n",
      "['Florianópolis']\n",
      "['Fortaleza']\n",
      "['Goiânia']\n",
      "['João Pessoa']\n",
      "['Macapá']\n",
      "['Maceió']\n",
      "['Manaus']\n",
      "['Natal']\n",
      "['Palmas']\n",
      "['Porto Alegre']\n",
      "['Porto Velho']\n",
      "['Recife']\n",
      "['Rio Branco']\n",
      "['R. Janeiro']\n",
      "['Salvador']\n",
      "['São Luis']\n",
      "['São Paulo']\n",
      "['Teresina']\n",
      "['Vitória']\n"
     ],
     "output_type": "stream"
    }
   ],
   "source": [
    "for ind in dataset_dist_capital.index: \n",
    "    print(str(capital_labels[ind]))\n",
    "     # print(dataset_dist_capital[capital_labels[ind]][ind]) \n"
   ],
   "metadata": {
    "collapsed": false,
    "pycharm": {
     "name": "#%%\n",
     "is_executing": false
    }
   }
  },
  {
   "cell_type": "code",
   "execution_count": 52,
   "outputs": [
    {
     "data": {
      "text/plain": "\"['Aracaju']['Belém']\""
     },
     "metadata": {},
     "output_type": "execute_result",
     "execution_count": 52
    }
   ],
   "source": [
    "str(capital_labels[0]) + str(capital_labels[1])"
   ],
   "metadata": {
    "collapsed": false,
    "pycharm": {
     "name": "#%%\n",
     "is_executing": false
    }
   }
  },
  {
   "cell_type": "code",
   "execution_count": null,
   "outputs": [],
   "source": [
    "\n"
   ],
   "metadata": {
    "collapsed": false,
    "pycharm": {
     "name": "#%%\n"
    }
   }
  }
 ],
 "metadata": {
  "kernelspec": {
   "display_name": "Python 3",
   "language": "python",
   "name": "python3"
  },
  "language_info": {
   "codemirror_mode": {
    "name": "ipython",
    "version": 2
   },
   "file_extension": ".py",
   "mimetype": "text/x-python",
   "name": "python",
   "nbconvert_exporter": "python",
   "pygments_lexer": "ipython2",
   "version": "2.7.6"
  },
  "pycharm": {
   "stem_cell": {
    "cell_type": "raw",
    "source": [],
    "metadata": {
     "collapsed": false
    }
   }
  }
 },
 "nbformat": 4,
 "nbformat_minor": 0
}