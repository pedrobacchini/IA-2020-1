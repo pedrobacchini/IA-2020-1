{
 "cells": [
  {
   "cell_type": "code",
   "execution_count": 8,
   "metadata": {
    "collapsed": true,
    "pycharm": {
     "is_executing": false,
     "name": "#%%\n"
    }
   },
   "outputs": [],
   "source": [
    "import pandas as pd\n",
    "dist_capitais = pd.read_csv('/home/pedro-bacchini/Downloads/IA-2020-1/distCapitais.csv')\n",
    "\n",
    "conex_capitais = pd.read_csv('/home/pedro-bacchini/Downloads/IA-2020-1/conexCapitais.csv')"
   ]
  },
  {
   "cell_type": "code",
   "execution_count": 9,
   "outputs": [
    {
     "name": "stdout",
     "text": [
      "conex_capitais :\n",
      "        Unnamed: 0  Aracaju  Belém  Belo Horizonte  Boa Vista  Brasília  \\\n",
      "0         Aracaju      1.0    NaN             NaN        NaN       NaN   \n",
      "1           Belém      NaN    1.0             NaN        NaN       NaN   \n",
      "2    B. Horizonte      NaN    NaN             1.0        NaN       1.0   \n",
      "3       Boa Vista      NaN    NaN             NaN        1.0       NaN   \n",
      "4        Brasília      NaN    NaN             1.0        NaN       1.0   \n",
      "5       C. Grande      NaN    NaN             NaN        NaN       NaN   \n",
      "6          Cuiabá      NaN    NaN             NaN        NaN       NaN   \n",
      "7        Curitiba      NaN    NaN             NaN        NaN       NaN   \n",
      "8   Florianópolis      NaN    NaN             NaN        NaN       NaN   \n",
      "9       Fortaleza      NaN    NaN             NaN        NaN       NaN   \n",
      "10        Goiânia      NaN    NaN             NaN        NaN       1.0   \n",
      "11    João Pessoa      NaN    NaN             NaN        NaN       NaN   \n",
      "12         Macapá      NaN    1.0             NaN        NaN       NaN   \n",
      "13         Maceió      1.0    NaN             NaN        NaN       NaN   \n",
      "14         Manaus      NaN    1.0             NaN        1.0       1.0   \n",
      "15          Natal      NaN    NaN             NaN        NaN       NaN   \n",
      "16         Palmas      NaN    1.0             NaN        NaN       1.0   \n",
      "17   Porto Alegre      NaN    NaN             NaN        NaN       NaN   \n",
      "18    Porto Velho      NaN    NaN             NaN        NaN       NaN   \n",
      "19         Recife      NaN    NaN             NaN        NaN       NaN   \n",
      "20     Rio Branco      NaN    NaN             NaN        NaN       NaN   \n",
      "21     R. Janeiro      NaN    NaN             1.0        NaN       NaN   \n",
      "22       Salvador      1.0    NaN             NaN        NaN       1.0   \n",
      "23       São Luis      NaN    1.0             NaN        NaN       NaN   \n",
      "24      São Paulo      NaN    NaN             1.0        NaN       1.0   \n",
      "25       Teresina      NaN    NaN             NaN        NaN       NaN   \n",
      "26        Vitória      NaN    NaN             NaN        NaN       1.0   \n",
      "\n",
      "    Campo Grande  Cuiabá  Curitiba  Florianópolis  ...  Porto Alegre  \\\n",
      "0            NaN     NaN       NaN            NaN  ...           NaN   \n",
      "1            NaN     NaN       NaN            NaN  ...           NaN   \n",
      "2            NaN     NaN       NaN            NaN  ...           NaN   \n",
      "3            NaN     NaN       NaN            NaN  ...           NaN   \n",
      "4            NaN     NaN       NaN            NaN  ...           NaN   \n",
      "5            1.0     1.0       NaN            NaN  ...           1.0   \n",
      "6            1.0     1.0       NaN            NaN  ...           NaN   \n",
      "7            NaN     NaN       1.0            1.0  ...           1.0   \n",
      "8            NaN     NaN       1.0            1.0  ...           1.0   \n",
      "9            NaN     NaN       NaN            NaN  ...           NaN   \n",
      "10           1.0     1.0       NaN            NaN  ...           NaN   \n",
      "11           NaN     NaN       NaN            NaN  ...           NaN   \n",
      "12           NaN     NaN       NaN            NaN  ...           NaN   \n",
      "13           NaN     NaN       NaN            NaN  ...           NaN   \n",
      "14           NaN     NaN       NaN            NaN  ...           NaN   \n",
      "15           NaN     NaN       NaN            NaN  ...           NaN   \n",
      "16           NaN     NaN       NaN            NaN  ...           NaN   \n",
      "17           1.0     NaN       1.0            1.0  ...           NaN   \n",
      "18           NaN     1.0       NaN            NaN  ...           NaN   \n",
      "19           NaN     NaN       NaN            NaN  ...           NaN   \n",
      "20           NaN     NaN       NaN            NaN  ...           NaN   \n",
      "21           NaN     NaN       NaN            NaN  ...           NaN   \n",
      "22           NaN     NaN       NaN            NaN  ...           NaN   \n",
      "23           NaN     NaN       NaN            NaN  ...           NaN   \n",
      "24           1.0     NaN       1.0            NaN  ...           NaN   \n",
      "25           NaN     NaN       NaN            NaN  ...           NaN   \n",
      "26           NaN     NaN       NaN            NaN  ...           NaN   \n",
      "\n",
      "    Porto Velho  Recife  Rio Branco  R. Janeiro  Salvador  São Luis  \\\n",
      "0           NaN     NaN         NaN         NaN       1.0       NaN   \n",
      "1           NaN     NaN         NaN         NaN       NaN       1.0   \n",
      "2           NaN     NaN         NaN         1.0       NaN       NaN   \n",
      "3           NaN     NaN         NaN         NaN       NaN       NaN   \n",
      "4           NaN     NaN         NaN         NaN       1.0       NaN   \n",
      "5           NaN     NaN         NaN         NaN       NaN       NaN   \n",
      "6           1.0     NaN         NaN         NaN       NaN       NaN   \n",
      "7           NaN     NaN         NaN         NaN       NaN       NaN   \n",
      "8           NaN     NaN         NaN         NaN       NaN       NaN   \n",
      "9           NaN     NaN         NaN         NaN       1.0       NaN   \n",
      "10          NaN     NaN         NaN         NaN       NaN       NaN   \n",
      "11          NaN     1.0         NaN         NaN       NaN       NaN   \n",
      "12          NaN     NaN         NaN         NaN       NaN       NaN   \n",
      "13          NaN     1.0         NaN         NaN       NaN       NaN   \n",
      "14          1.0     NaN         1.0         NaN       NaN       NaN   \n",
      "15          NaN     NaN         NaN         NaN       NaN       NaN   \n",
      "16          NaN     NaN         NaN         NaN       NaN       NaN   \n",
      "17          NaN     NaN         NaN         NaN       NaN       NaN   \n",
      "18          1.0     NaN         NaN         NaN       NaN       NaN   \n",
      "19          NaN     1.0         NaN         NaN       NaN       NaN   \n",
      "20          NaN     NaN         1.0         NaN       NaN       NaN   \n",
      "21          NaN     NaN         NaN         NaN       NaN       NaN   \n",
      "22          NaN     NaN         NaN         NaN       1.0       NaN   \n",
      "23          NaN     NaN         NaN         NaN       NaN       1.0   \n",
      "24          NaN     NaN         NaN         1.0       NaN       NaN   \n",
      "25          NaN     NaN         NaN         NaN       1.0       1.0   \n",
      "26          NaN     NaN         NaN         1.0       1.0       NaN   \n",
      "\n",
      "    São Paulo  Teresina  Vitória  \n",
      "0         NaN       NaN      NaN  \n",
      "1         NaN       NaN      NaN  \n",
      "2         1.0       NaN      NaN  \n",
      "3         NaN       NaN      NaN  \n",
      "4         1.0       NaN      NaN  \n",
      "5         1.0       NaN      NaN  \n",
      "6         NaN       NaN      NaN  \n",
      "7         1.0       NaN      NaN  \n",
      "8         NaN       NaN      NaN  \n",
      "9         NaN       1.0      NaN  \n",
      "10        1.0       NaN      NaN  \n",
      "11        NaN       NaN      NaN  \n",
      "12        NaN       NaN      NaN  \n",
      "13        NaN       NaN      NaN  \n",
      "14        NaN       NaN      NaN  \n",
      "15        NaN       NaN      NaN  \n",
      "16        NaN       NaN      NaN  \n",
      "17        NaN       NaN      NaN  \n",
      "18        NaN       NaN      NaN  \n",
      "19        NaN       NaN      NaN  \n",
      "20        NaN       NaN      NaN  \n",
      "21        1.0       NaN      1.0  \n",
      "22        NaN       1.0      1.0  \n",
      "23        NaN       1.0      NaN  \n",
      "24        NaN       NaN      NaN  \n",
      "25        NaN       NaN      NaN  \n",
      "26        NaN       NaN      1.0  \n",
      "\n",
      "[27 rows x 28 columns]\n"
     ],
     "output_type": "stream"
    }
   ],
   "source": [
    "print(\"conex_capitais :\\n\", conex_capitais) "
   ],
   "metadata": {
    "collapsed": false,
    "pycharm": {
     "name": "#%%\n",
     "is_executing": false
    }
   }
  },
  {
   "cell_type": "code",
   "execution_count": 11,
   "outputs": [
    {
     "name": "stdout",
     "text": [
      "  Unnamed: 0  Aracaju  Belém  Belo Horizonte  Boa Vista  Brasília  \\\n",
      "0    Aracaju      1.0    NaN             NaN        NaN       NaN   \n",
      "\n",
      "   Campo Grande  Cuiabá  Curitiba  Florianópolis  ...  Porto Alegre  \\\n",
      "0           NaN     NaN       NaN            NaN  ...           NaN   \n",
      "\n",
      "   Porto Velho  Recife  Rio Branco  R. Janeiro  Salvador  São Luis  São Paulo  \\\n",
      "0          NaN     NaN         NaN         NaN       1.0       NaN        NaN   \n",
      "\n",
      "   Teresina  Vitória  \n",
      "0       NaN      NaN  \n",
      "\n",
      "[1 rows x 28 columns]\n",
      "Unnamed: 0\n",
      "Aracaju\n",
      "Belém\n",
      "Belo Horizonte\n",
      "Boa Vista\n",
      "Brasília\n",
      "Campo Grande\n",
      "Cuiabá\n",
      "Curitiba\n",
      "Florianópolis\n",
      "Fortaleza\n",
      "Goiânia\n",
      "João Pessoa\n",
      "Macapá\n",
      "Maceió\n",
      "Manaus\n",
      "Natal\n",
      "Palmas\n",
      "Porto Alegre\n",
      "Porto Velho\n",
      "Recife\n",
      "Rio Branco\n",
      "R. Janeiro\n",
      "Salvador\n",
      "São Luis\n",
      "São Paulo\n",
      "Teresina\n",
      "Vitória\n"
     ],
     "output_type": "stream"
    }
   ],
   "source": [
    "capitais = conex_capitais.loc[0:0]\n",
    "print(capitais)\n",
    "\n",
    "df = capitais.drop(capitais.columns[[0]], 1)\n",
    "for capital in capitais: \n",
    "     print(capital) "
   ],
   "metadata": {
    "collapsed": false,
    "pycharm": {
     "name": "#%%\n",
     "is_executing": false
    }
   }
  },
  {
   "cell_type": "code",
   "execution_count": 45,
   "outputs": [
    {
     "name": "stdout",
     "text": [
      "1.0\n",
      "nan\n",
      "nan\n",
      "nan\n",
      "nan\n",
      "nan\n",
      "nan\n",
      "nan\n",
      "nan\n",
      "nan\n",
      "nan\n",
      "nan\n",
      "nan\n",
      "1.0\n",
      "nan\n",
      "nan\n",
      "nan\n",
      "nan\n",
      "nan\n",
      "nan\n",
      "nan\n",
      "nan\n",
      "1.0\n",
      "nan\n",
      "nan\n",
      "nan\n",
      "nan\n"
     ],
     "output_type": "stream"
    }
   ],
   "source": [
    "# del conex_capitais['column_name']\n",
    "\n",
    "brazil = {\n",
    "    \n",
    "}\n",
    "\n",
    "for ind in conex_capitais.index: \n",
    "     print(conex_capitais['Aracaju'][ind]) \n",
    "     \n",
    "\n",
    "\n"
   ],
   "metadata": {
    "collapsed": false,
    "pycharm": {
     "name": "#%%\n",
     "is_executing": false
    }
   }
  },
  {
   "cell_type": "code",
   "execution_count": 49,
   "outputs": [
    {
     "traceback": [
      "\u001b[0;31m---------------------------------------------------------------------------\u001b[0m",
      "\u001b[0;31mKeyError\u001b[0m                                  Traceback (most recent call last)",
      "\u001b[0;32m~/miniconda3/envs/hello-world/lib/python3.7/site-packages/pandas/core/indexes/base.py\u001b[0m in \u001b[0;36mget_loc\u001b[0;34m(self, key, method, tolerance)\u001b[0m\n\u001b[1;32m   2645\u001b[0m             \u001b[0;32mtry\u001b[0m\u001b[0;34m:\u001b[0m\u001b[0;34m\u001b[0m\u001b[0;34m\u001b[0m\u001b[0m\n\u001b[0;32m-> 2646\u001b[0;31m                 \u001b[0;32mreturn\u001b[0m \u001b[0mself\u001b[0m\u001b[0;34m.\u001b[0m\u001b[0m_engine\u001b[0m\u001b[0;34m.\u001b[0m\u001b[0mget_loc\u001b[0m\u001b[0;34m(\u001b[0m\u001b[0mkey\u001b[0m\u001b[0;34m)\u001b[0m\u001b[0;34m\u001b[0m\u001b[0;34m\u001b[0m\u001b[0m\n\u001b[0m\u001b[1;32m   2647\u001b[0m             \u001b[0;32mexcept\u001b[0m \u001b[0mKeyError\u001b[0m\u001b[0;34m:\u001b[0m\u001b[0;34m\u001b[0m\u001b[0;34m\u001b[0m\u001b[0m\n",
      "\u001b[0;32mpandas/_libs/index.pyx\u001b[0m in \u001b[0;36mpandas._libs.index.IndexEngine.get_loc\u001b[0;34m()\u001b[0m\n",
      "\u001b[0;32mpandas/_libs/index.pyx\u001b[0m in \u001b[0;36mpandas._libs.index.IndexEngine.get_loc\u001b[0;34m()\u001b[0m\n",
      "\u001b[0;32mpandas/_libs/hashtable_class_helper.pxi\u001b[0m in \u001b[0;36mpandas._libs.hashtable.PyObjectHashTable.get_item\u001b[0;34m()\u001b[0m\n",
      "\u001b[0;32mpandas/_libs/hashtable_class_helper.pxi\u001b[0m in \u001b[0;36mpandas._libs.hashtable.PyObjectHashTable.get_item\u001b[0;34m()\u001b[0m\n",
      "\u001b[0;31mKeyError\u001b[0m: 1",
      "\nDuring handling of the above exception, another exception occurred:\n",
      "\u001b[0;31mKeyError\u001b[0m                                  Traceback (most recent call last)",
      "\u001b[0;32m<ipython-input-49-5b9bf2c0accd>\u001b[0m in \u001b[0;36m<module>\u001b[0;34m\u001b[0m\n\u001b[1;32m      1\u001b[0m \u001b[0;32mfor\u001b[0m \u001b[0mind\u001b[0m \u001b[0;32min\u001b[0m \u001b[0mconex_capitais\u001b[0m\u001b[0;34m:\u001b[0m\u001b[0;34m\u001b[0m\u001b[0;34m\u001b[0m\u001b[0m\n\u001b[0;32m----> 2\u001b[0;31m      \u001b[0mprint\u001b[0m\u001b[0;34m(\u001b[0m\u001b[0mconex_capitais\u001b[0m\u001b[0;34m[\u001b[0m\u001b[0;36m1\u001b[0m\u001b[0;34m]\u001b[0m\u001b[0;34m)\u001b[0m\u001b[0;34m\u001b[0m\u001b[0;34m\u001b[0m\u001b[0m\n\u001b[0m\u001b[1;32m      3\u001b[0m \u001b[0;34m\u001b[0m\u001b[0m\n",
      "\u001b[0;32m~/miniconda3/envs/hello-world/lib/python3.7/site-packages/pandas/core/frame.py\u001b[0m in \u001b[0;36m__getitem__\u001b[0;34m(self, key)\u001b[0m\n\u001b[1;32m   2798\u001b[0m             \u001b[0;32mif\u001b[0m \u001b[0mself\u001b[0m\u001b[0;34m.\u001b[0m\u001b[0mcolumns\u001b[0m\u001b[0;34m.\u001b[0m\u001b[0mnlevels\u001b[0m \u001b[0;34m>\u001b[0m \u001b[0;36m1\u001b[0m\u001b[0;34m:\u001b[0m\u001b[0;34m\u001b[0m\u001b[0;34m\u001b[0m\u001b[0m\n\u001b[1;32m   2799\u001b[0m                 \u001b[0;32mreturn\u001b[0m \u001b[0mself\u001b[0m\u001b[0;34m.\u001b[0m\u001b[0m_getitem_multilevel\u001b[0m\u001b[0;34m(\u001b[0m\u001b[0mkey\u001b[0m\u001b[0;34m)\u001b[0m\u001b[0;34m\u001b[0m\u001b[0;34m\u001b[0m\u001b[0m\n\u001b[0;32m-> 2800\u001b[0;31m             \u001b[0mindexer\u001b[0m \u001b[0;34m=\u001b[0m \u001b[0mself\u001b[0m\u001b[0;34m.\u001b[0m\u001b[0mcolumns\u001b[0m\u001b[0;34m.\u001b[0m\u001b[0mget_loc\u001b[0m\u001b[0;34m(\u001b[0m\u001b[0mkey\u001b[0m\u001b[0;34m)\u001b[0m\u001b[0;34m\u001b[0m\u001b[0;34m\u001b[0m\u001b[0m\n\u001b[0m\u001b[1;32m   2801\u001b[0m             \u001b[0;32mif\u001b[0m \u001b[0mis_integer\u001b[0m\u001b[0;34m(\u001b[0m\u001b[0mindexer\u001b[0m\u001b[0;34m)\u001b[0m\u001b[0;34m:\u001b[0m\u001b[0;34m\u001b[0m\u001b[0;34m\u001b[0m\u001b[0m\n\u001b[1;32m   2802\u001b[0m                 \u001b[0mindexer\u001b[0m \u001b[0;34m=\u001b[0m \u001b[0;34m[\u001b[0m\u001b[0mindexer\u001b[0m\u001b[0;34m]\u001b[0m\u001b[0;34m\u001b[0m\u001b[0;34m\u001b[0m\u001b[0m\n",
      "\u001b[0;32m~/miniconda3/envs/hello-world/lib/python3.7/site-packages/pandas/core/indexes/base.py\u001b[0m in \u001b[0;36mget_loc\u001b[0;34m(self, key, method, tolerance)\u001b[0m\n\u001b[1;32m   2646\u001b[0m                 \u001b[0;32mreturn\u001b[0m \u001b[0mself\u001b[0m\u001b[0;34m.\u001b[0m\u001b[0m_engine\u001b[0m\u001b[0;34m.\u001b[0m\u001b[0mget_loc\u001b[0m\u001b[0;34m(\u001b[0m\u001b[0mkey\u001b[0m\u001b[0;34m)\u001b[0m\u001b[0;34m\u001b[0m\u001b[0;34m\u001b[0m\u001b[0m\n\u001b[1;32m   2647\u001b[0m             \u001b[0;32mexcept\u001b[0m \u001b[0mKeyError\u001b[0m\u001b[0;34m:\u001b[0m\u001b[0;34m\u001b[0m\u001b[0;34m\u001b[0m\u001b[0m\n\u001b[0;32m-> 2648\u001b[0;31m                 \u001b[0;32mreturn\u001b[0m \u001b[0mself\u001b[0m\u001b[0;34m.\u001b[0m\u001b[0m_engine\u001b[0m\u001b[0;34m.\u001b[0m\u001b[0mget_loc\u001b[0m\u001b[0;34m(\u001b[0m\u001b[0mself\u001b[0m\u001b[0;34m.\u001b[0m\u001b[0m_maybe_cast_indexer\u001b[0m\u001b[0;34m(\u001b[0m\u001b[0mkey\u001b[0m\u001b[0;34m)\u001b[0m\u001b[0;34m)\u001b[0m\u001b[0;34m\u001b[0m\u001b[0;34m\u001b[0m\u001b[0m\n\u001b[0m\u001b[1;32m   2649\u001b[0m         \u001b[0mindexer\u001b[0m \u001b[0;34m=\u001b[0m \u001b[0mself\u001b[0m\u001b[0;34m.\u001b[0m\u001b[0mget_indexer\u001b[0m\u001b[0;34m(\u001b[0m\u001b[0;34m[\u001b[0m\u001b[0mkey\u001b[0m\u001b[0;34m]\u001b[0m\u001b[0;34m,\u001b[0m \u001b[0mmethod\u001b[0m\u001b[0;34m=\u001b[0m\u001b[0mmethod\u001b[0m\u001b[0;34m,\u001b[0m \u001b[0mtolerance\u001b[0m\u001b[0;34m=\u001b[0m\u001b[0mtolerance\u001b[0m\u001b[0;34m)\u001b[0m\u001b[0;34m\u001b[0m\u001b[0;34m\u001b[0m\u001b[0m\n\u001b[1;32m   2650\u001b[0m         \u001b[0;32mif\u001b[0m \u001b[0mindexer\u001b[0m\u001b[0;34m.\u001b[0m\u001b[0mndim\u001b[0m \u001b[0;34m>\u001b[0m \u001b[0;36m1\u001b[0m \u001b[0;32mor\u001b[0m \u001b[0mindexer\u001b[0m\u001b[0;34m.\u001b[0m\u001b[0msize\u001b[0m \u001b[0;34m>\u001b[0m \u001b[0;36m1\u001b[0m\u001b[0;34m:\u001b[0m\u001b[0;34m\u001b[0m\u001b[0;34m\u001b[0m\u001b[0m\n",
      "\u001b[0;32mpandas/_libs/index.pyx\u001b[0m in \u001b[0;36mpandas._libs.index.IndexEngine.get_loc\u001b[0;34m()\u001b[0m\n",
      "\u001b[0;32mpandas/_libs/index.pyx\u001b[0m in \u001b[0;36mpandas._libs.index.IndexEngine.get_loc\u001b[0;34m()\u001b[0m\n",
      "\u001b[0;32mpandas/_libs/hashtable_class_helper.pxi\u001b[0m in \u001b[0;36mpandas._libs.hashtable.PyObjectHashTable.get_item\u001b[0;34m()\u001b[0m\n",
      "\u001b[0;32mpandas/_libs/hashtable_class_helper.pxi\u001b[0m in \u001b[0;36mpandas._libs.hashtable.PyObjectHashTable.get_item\u001b[0;34m()\u001b[0m\n",
      "\u001b[0;31mKeyError\u001b[0m: 1"
     ],
     "ename": "KeyError",
     "evalue": "1",
     "output_type": "error"
    }
   ],
   "source": [
    "for ind in conex_capitais: \n",
    "     print(conex_capitais[])"
   ],
   "metadata": {
    "collapsed": false,
    "pycharm": {
     "name": "#%%\n",
     "is_executing": false
    }
   }
  },
  {
   "cell_type": "code",
   "execution_count": null,
   "outputs": [],
   "source": [
    "\n"
   ],
   "metadata": {
    "collapsed": false,
    "pycharm": {
     "name": "#%%\n"
    }
   }
  }
 ],
 "metadata": {
  "kernelspec": {
   "display_name": "Python 3",
   "language": "python",
   "name": "python3"
  },
  "language_info": {
   "codemirror_mode": {
    "name": "ipython",
    "version": 2
   },
   "file_extension": ".py",
   "mimetype": "text/x-python",
   "name": "python",
   "nbconvert_exporter": "python",
   "pygments_lexer": "ipython2",
   "version": "2.7.6"
  },
  "pycharm": {
   "stem_cell": {
    "cell_type": "raw",
    "source": [],
    "metadata": {
     "collapsed": false
    }
   }
  }
 },
 "nbformat": 4,
 "nbformat_minor": 0
}