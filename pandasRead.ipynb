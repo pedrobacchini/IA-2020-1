{
 "cells": [
  {
   "cell_type": "code",
   "execution_count": 4,
   "metadata": {
    "collapsed": true,
    "pycharm": {
     "is_executing": false
    }
   },
   "outputs": [
    {
     "name": "stdout",
     "text": [
      "Given Dataframe :\n",
      "                  Name  Age    Stream  Percentage\n",
      "Name            Ankit   21      Math          88\n",
      "Age              Amit   19  Commerce          92\n",
      "Stream      Aishwarya   20      Arts          95\n",
      "Percentage   Priyanka   18   Biology          70\n",
      "\n",
      "Iterating over rows using index attribute :\n",
      "\n",
      "                 Name  Age    Stream  Percentage\n",
      "Name            Ankit   21      Math          88\n",
      "Age              Amit   19  Commerce          92\n",
      "Stream      Aishwarya   20      Arts          95\n",
      "Percentage   Priyanka   18   Biology          70\n",
      "                 Name  Age    Stream  Percentage\n",
      "Name            Ankit   21      Math          88\n",
      "Age              Amit   19  Commerce          92\n",
      "Stream      Aishwarya   20      Arts          95\n",
      "Percentage   Priyanka   18   Biology          70\n",
      "                 Name  Age    Stream  Percentage\n",
      "Name            Ankit   21      Math          88\n",
      "Age              Amit   19  Commerce          92\n",
      "Stream      Aishwarya   20      Arts          95\n",
      "Percentage   Priyanka   18   Biology          70\n",
      "                 Name  Age    Stream  Percentage\n",
      "Name            Ankit   21      Math          88\n",
      "Age              Amit   19  Commerce          92\n",
      "Stream      Aishwarya   20      Arts          95\n",
      "Percentage   Priyanka   18   Biology          70\n"
     ],
     "output_type": "stream"
    }
   ],
   "source": [
    "import pandas as pd\n",
    "data = {'Name': ['Ankit', 'Amit', 'Aishwarya', 'Priyanka'], \n",
    "                'Age': [21, 19, 20, 18], \n",
    "                'Stream': ['Math', 'Commerce', 'Arts', 'Biology'], \n",
    "                'Percentage': [88, 92, 95, 70]} \n",
    "  \n",
    "# Convert the dictionary into DataFrame \n",
    "df = pd.DataFrame(data, ['Name', 'Age', 'Stream', 'Percentage']) \n",
    "  \n",
    "print(\"Given Dataframe :\\n\", df) \n",
    "  \n",
    "print(\"\\nIterating over rows using index attribute :\\n\") \n",
    "  \n",
    "# iterate through each row and select  \n",
    "# 'Name' and 'Stream' column respectively. \n",
    "for ind in df.index: \n",
    "     print(df) \n",
    "     # print(df['Name'][ind], df['Stream'][ind]) "
   ]
  },
  {
   "cell_type": "code",
   "execution_count": null,
   "outputs": [],
   "source": [
    "\n"
   ],
   "metadata": {
    "collapsed": false,
    "pycharm": {
     "name": "#%%\n"
    }
   }
  }
 ],
 "metadata": {
  "kernelspec": {
   "display_name": "Python 3",
   "language": "python",
   "name": "python3"
  },
  "language_info": {
   "codemirror_mode": {
    "name": "ipython",
    "version": 2
   },
   "file_extension": ".py",
   "mimetype": "text/x-python",
   "name": "python",
   "nbconvert_exporter": "python",
   "pygments_lexer": "ipython2",
   "version": "2.7.6"
  },
  "pycharm": {
   "stem_cell": {
    "cell_type": "raw",
    "source": [],
    "metadata": {
     "collapsed": false
    }
   }
  }
 },
 "nbformat": 4,
 "nbformat_minor": 0
}